{
  "cells": [
    {
      "cell_type": "markdown",
      "metadata": {
        "id": "uHaQzWnteutc"
      },
      "source": [
        "# Aprendizado Não-Supervisionado - Turma: 030\n",
        "# Trabalho I - Implementação do DBSCAN\n",
        "## Integrantes: Pedro N Pagnussat\n"
      ]
    },
    {
      "cell_type": "markdown",
      "metadata": {},
      "source": [
        "Nota: O algoritmo de DBSCAN faz parte "
      ]
    },
    {
      "cell_type": "markdown",
      "metadata": {
        "id": "SK_RIYOeeu1c"
      },
      "source": [
        "### Imports"
      ]
    },
    {
      "cell_type": "markdown",
      "metadata": {
        "id": "EfkoGttKfLIF"
      },
      "source": [
        "### Carregamento de dados"
      ]
    },
    {
      "cell_type": "markdown",
      "metadata": {
        "id": "o3Luii4RfRHo"
      },
      "source": [
        "### Pré-processamento dos dados"
      ]
    },
    {
      "cell_type": "markdown",
      "metadata": {
        "id": "l5_5qng8eu6c"
      },
      "source": [
        "### Instanciando o modelo"
      ]
    },
    {
      "cell_type": "markdown",
      "metadata": {
        "id": "67RO1sltfTaJ"
      },
      "source": [
        "#### Hiperpâmetros"
      ]
    },
    {
      "cell_type": "markdown",
      "metadata": {
        "id": "itNzshCaevA8"
      },
      "source": []
    },
    {
      "cell_type": "markdown",
      "metadata": {
        "id": "1gsxtQFCevFU"
      },
      "source": [
        "### Resultados"
      ]
    },
    {
      "cell_type": "markdown",
      "metadata": {
        "id": "6en6GtPpevIM"
      },
      "source": [
        "#### Silhueta"
      ]
    }
  ],
  "metadata": {
    "colab": {
      "provenance": []
    },
    "kernelspec": {
      "display_name": "Python 3",
      "name": "python3"
    },
    "language_info": {
      "name": "python"
    }
  },
  "nbformat": 4,
  "nbformat_minor": 0
}
