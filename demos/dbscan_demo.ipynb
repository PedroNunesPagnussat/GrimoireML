{
  "nbformat": 4,
  "nbformat_minor": 0,
  "metadata": {
    "colab": {
      "provenance": []
    },
    "kernelspec": {
      "name": "python3",
      "display_name": "Python 3"
    },
    "language_info": {
      "name": "python"
    }
  },
  "cells": [
    {
      "cell_type": "markdown",
      "source": [
        "# Aprendizado Não-Supervisionado - Turma: 030\n",
        "# Trabalho I - Implementação do DBSCAN\n",
        "## Integrantes:"
      ],
      "metadata": {
        "id": "uHaQzWnteutc"
      }
    },
    {
      "cell_type": "markdown",
      "source": [
        "### Imports"
      ],
      "metadata": {
        "id": "SK_RIYOeeu1c"
      }
    },
    {
      "cell_type": "markdown",
      "source": [
        "### Carregamento de dados"
      ],
      "metadata": {
        "id": "EfkoGttKfLIF"
      }
    },
    {
      "cell_type": "markdown",
      "source": [
        "### Pré-processamento dos dados"
      ],
      "metadata": {
        "id": "o3Luii4RfRHo"
      }
    },
    {
      "cell_type": "markdown",
      "source": [
        "### Instanciando o modelo"
      ],
      "metadata": {
        "id": "l5_5qng8eu6c"
      }
    },
    {
      "cell_type": "markdown",
      "source": [
        "#### Hiperpâmetros"
      ],
      "metadata": {
        "id": "67RO1sltfTaJ"
      }
    },
    {
      "cell_type": "markdown",
      "source": [],
      "metadata": {
        "id": "itNzshCaevA8"
      }
    },
    {
      "cell_type": "markdown",
      "source": [
        "### Resultados"
      ],
      "metadata": {
        "id": "1gsxtQFCevFU"
      }
    },
    {
      "cell_type": "markdown",
      "source": [
        "#### Silhueta"
      ],
      "metadata": {
        "id": "6en6GtPpevIM"
      }
    }
  ]
}